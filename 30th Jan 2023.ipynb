{
 "cells": [
  {
   "cell_type": "markdown",
   "id": "2dcd856f-d1ab-4a93-8993-b8579b4ecfd8",
   "metadata": {},
   "source": [
    "**Q1. Write a program to accept percentage from the user and display the grade according to the following criteria:**\n",
    "\n",
    "| Marks           | Grade   |\n",
    "| --------------- | ------- |\n",
    "| >90             | A       |\n",
    "| >80 and <= 90   | B       |\n",
    "| >=60 and <= 80  | C       |\n",
    "| below 60        | D       |"
   ]
  },
  {
   "cell_type": "code",
   "execution_count": 1,
   "id": "f5aebbd2-3e42-439a-80e0-89901e192548",
   "metadata": {},
   "outputs": [
    {
     "name": "stdout",
     "output_type": "stream",
     "text": [
      "Enter your marks (in Percentage)89\n",
      "Your have received Grade B\n"
     ]
    }
   ],
   "source": [
    "percentage = int(input(\"Enter your marks (in Percentage)\"))\n",
    "if percentage > 90 and percentage <= 100 :\n",
    "    print (\"Your have received Grade A\")    \n",
    "elif percentage <= 90 and percentage > 80 :\n",
    "    print (\"Your have received Grade B\")                     \n",
    "elif percentage <= 80 and percentage >= 60 :\n",
    "    print (\"Your have received Grade C\")\n",
    "elif percentage < 60 :\n",
    "    print (\"Your have received Grade D\")\n",
    "else :\n",
    "    print(\"Invalid Input\")"
   ]
  },
  {
   "cell_type": "markdown",
   "id": "974b2c2c-902f-4b7b-8f68-412465c307ed",
   "metadata": {},
   "source": [
    "**Q2. Write a program to accept the cost price of a bike and display the road tax to be paid according to the following criteria:**\n",
    "\n",
    "\n",
    "| Tax             | Cost Price (In Rs.)   |\n",
    "| --------------- | -------               |\n",
    "| 15%             | > 100000              |\n",
    "| 10%             | > 50000 and <= 100000 |\n",
    "| 5%              | <= 50000              |\n"
   ]
  },
  {
   "cell_type": "code",
   "execution_count": 2,
   "id": "73854568-950e-47e2-984f-a50f722eda52",
   "metadata": {},
   "outputs": [
    {
     "name": "stdout",
     "output_type": "stream",
     "text": [
      "Enter Cost Price (in Rs.) of Bike200000\n",
      "Your have to pay 15% Tax\n"
     ]
    }
   ],
   "source": [
    "cost_price = int(input(\"Enter Cost Price (in Rs.) of Bike\"))\n",
    "if cost_price > 100000 :\n",
    "    print (\"Your have to pay 15% Tax\")    \n",
    "elif cost_price <= 100000 and cost_price > 50000 :\n",
    "    print (\"Your have to pay 10% Tax\")                     \n",
    "elif cost_price <= 50000 :\n",
    "    print (\"Your have to pay 5% Tax\")  "
   ]
  },
  {
   "cell_type": "markdown",
   "id": "036566d3-e4dd-4954-bf06-e9ba18ad9aaf",
   "metadata": {},
   "source": [
    "**Q3. Accept any city from the user and display monuments of that city.**\n",
    "\n",
    "\n",
    "| City      | Monument  |\n",
    "| --------- | -------   |\n",
    "| Delhi     | Red Fort  |\n",
    "| Agra      | Taj Mahal |\n",
    "| Jaipur    | Jal Mahal |\n"
   ]
  },
  {
   "cell_type": "code",
   "execution_count": 3,
   "id": "a5bf46b5-2b19-4313-8775-895023ba28e3",
   "metadata": {},
   "outputs": [
    {
     "name": "stdout",
     "output_type": "stream",
     "text": [
      "Enter any city nameagra\n",
      "Taj Mahal Monument is in Agra\n"
     ]
    }
   ],
   "source": [
    "city = input(\"Enter any city name\")\n",
    "city = city.lower()\n",
    "if city == \"delhi\":\n",
    "    print (\"Red Fort Monument is in Delhi\")    \n",
    "elif city == \"agra\":\n",
    "    print (\"Taj Mahal Monument is in Agra\")                     \n",
    "elif city == \"jaipur\":\n",
    "    print (\"Jal Mahal Monument is in Jaipur\")\n",
    "else :\n",
    "    print(\"Invalid input or information not available\")"
   ]
  },
  {
   "cell_type": "markdown",
   "id": "4dc46d51-ea10-42b9-b168-3277c0a36f16",
   "metadata": {},
   "source": [
    "**Q4. Check how many times a given number can be divided by 3 before it is less than or equal to 10.**"
   ]
  },
  {
   "cell_type": "code",
   "execution_count": 4,
   "id": "b83187a5-6e3a-4682-a848-8a99168cef5d",
   "metadata": {},
   "outputs": [
    {
     "name": "stdout",
     "output_type": "stream",
     "text": [
      "Enter any number89\n",
      "89 can be divided by 3, 2 number of times\n"
     ]
    }
   ],
   "source": [
    "count = 0\n",
    "number = int(input(\"Enter any number\"))\n",
    "n1 = number\n",
    "while (n1 > 10) :\n",
    "    n1 = n1/3\n",
    "    count+= 1 \n",
    "print(f\"{number} can be divided by 3, {count} number of times\")"
   ]
  },
  {
   "cell_type": "markdown",
   "id": "c1156fa9-2e5d-4029-924e-c8585da4af50",
   "metadata": {},
   "source": [
    "**Q5. Why and When to Use while Loop in Python give a detailed description with example**\n",
    "\n",
    "Ans. The while loop in Python is used when you want to repeatedly execute a block of code as long as a certain condition is met. The loop continues to execute as long as the condition is True.\n",
    "\n",
    "Here's an example of how to use a while loop in Python:"
   ]
  },
  {
   "cell_type": "code",
   "execution_count": 5,
   "id": "e08521b9-58dd-455f-aa35-9534ab4c2650",
   "metadata": {},
   "outputs": [
    {
     "name": "stdout",
     "output_type": "stream",
     "text": [
      "0\n",
      "1\n",
      "2\n",
      "3\n",
      "4\n"
     ]
    }
   ],
   "source": [
    "count = 0\n",
    "\n",
    "# While loop\n",
    "\n",
    "while count < 5:\n",
    "    print(count)\n",
    "    count += 1"
   ]
  },
  {
   "cell_type": "markdown",
   "id": "d40b67af-571a-4f96-b704-b05b1570c712",
   "metadata": {},
   "source": [
    "```\n",
    "In this example, the while loop will continue to execute as long as count is less than 5. The value of count is incremented by 1 after each iteration, so eventually the condition count < 5 will become False, causing the loop to stop.\n",
    "\n",
    "It's important to make sure that the condition in a while loop eventually becomes False, otherwise the loop will run forever (an infinite loop), which can cause your program to hang or crash.\n",
    "```"
   ]
  },
  {
   "cell_type": "markdown",
   "id": "5da20c55-3e5f-4876-9d03-688a8703ee2d",
   "metadata": {},
   "source": [
    "**Q6. Use nested while loop to print 3 different pattern.**"
   ]
  },
  {
   "cell_type": "code",
   "execution_count": 6,
   "id": "830a6e35-342f-4633-b4b0-65cb476e7d59",
   "metadata": {},
   "outputs": [
    {
     "name": "stdout",
     "output_type": "stream",
     "text": [
      "Number of Rows4\n",
      "****\n",
      "***\n",
      "**\n",
      "*\n"
     ]
    }
   ],
   "source": [
    "## Pattern 1\n",
    "\n",
    "n =int(input(\"Number of Rows\"))\n",
    "while(n>0) :\n",
    "    print (\"*\"*n)\n",
    "    n -= 1"
   ]
  },
  {
   "cell_type": "code",
   "execution_count": 7,
   "id": "c2a02c2f-5e77-4b96-a115-a941b3f8b507",
   "metadata": {},
   "outputs": [
    {
     "name": "stdout",
     "output_type": "stream",
     "text": [
      "Number of Rows4\n",
      "   *\n",
      "  **\n",
      " ***\n",
      "****\n"
     ]
    }
   ],
   "source": [
    "n =int(input(\"Number of Rows\"))\n",
    "a = 1\n",
    "while(n>0) :\n",
    "    n -= 1\n",
    "    print (\" \"*n, end=\"*\"*a+\"\\n\")\n",
    "    a += 1"
   ]
  },
  {
   "cell_type": "code",
   "execution_count": 8,
   "id": "bdfbd5a4-7253-4626-8f51-db0c55253ddf",
   "metadata": {},
   "outputs": [
    {
     "name": "stdout",
     "output_type": "stream",
     "text": [
      "Number of Rows4\n",
      "   *   \n",
      "  ***  \n",
      " ***** \n",
      "*******\n"
     ]
    }
   ],
   "source": [
    "n =int(input(\"Number of Rows\"))\n",
    "a = 1\n",
    "while(n>0) :\n",
    "    n -= 1\n",
    "    print (\" \"*n +\"*\"*a ,end=\" \"*n+\"\\n\")\n",
    "    a += 2"
   ]
  },
  {
   "cell_type": "markdown",
   "id": "f16a33a3-74ec-4a1c-9f69-0246f3059cdd",
   "metadata": {},
   "source": [
    "**Q7. Reverse a while loop to display numbers from 10 to 1**"
   ]
  },
  {
   "cell_type": "code",
   "execution_count": 9,
   "id": "74167822",
   "metadata": {},
   "outputs": [
    {
     "name": "stdout",
     "output_type": "stream",
     "text": [
      "10\n",
      "9\n",
      "8\n",
      "7\n",
      "6\n",
      "5\n",
      "4\n",
      "3\n",
      "2\n",
      "1\n"
     ]
    }
   ],
   "source": [
    "i = 10\n",
    "while i > 0:\n",
    "    print(i)\n",
    "    i -=  1"
   ]
  },
  {
   "cell_type": "markdown",
   "id": "45f4dfbe-a93a-4347-8b32-5c44c856f7e8",
   "metadata": {},
   "source": [
    "**Q8. Reverse a while loop to display numbers from 10 to 1**"
   ]
  },
  {
   "cell_type": "code",
   "execution_count": 10,
   "id": "262ea196-e198-4c36-b673-018d68e6bd49",
   "metadata": {},
   "outputs": [
    {
     "name": "stdout",
     "output_type": "stream",
     "text": [
      "10\n",
      "9\n",
      "8\n",
      "7\n",
      "6\n",
      "5\n",
      "4\n",
      "3\n",
      "2\n",
      "1\n"
     ]
    }
   ],
   "source": [
    "i = 10\n",
    "while i > 0:\n",
    "    print(i)\n",
    "    i -=  1"
   ]
  }
 ],
 "metadata": {
  "kernelspec": {
   "display_name": "Python 3",
   "language": "python",
   "name": "python3"
  },
  "language_info": {
   "codemirror_mode": {
    "name": "ipython",
    "version": 3
   },
   "file_extension": ".py",
   "mimetype": "text/x-python",
   "name": "python",
   "nbconvert_exporter": "python",
   "pygments_lexer": "ipython3",
   "version": "3.8.8"
  }
 },
 "nbformat": 4,
 "nbformat_minor": 5
}
